{
 "cells": [
  {
   "cell_type": "code",
   "execution_count": 2,
   "id": "9383cbfa",
   "metadata": {},
   "outputs": [
    {
     "name": "stdout",
     "output_type": "stream",
     "text": [
      "Epoch 1/10\n",
      "10000/10000 [==============================] - 9s 851us/step - loss: 0.6190 - accuracy: 0.6371\n",
      "Epoch 2/10\n",
      "10000/10000 [==============================] - 9s 875us/step - loss: 0.5666 - accuracy: 0.7038\n",
      "Epoch 3/10\n",
      "10000/10000 [==============================] - 8s 839us/step - loss: 0.5317 - accuracy: 0.7279\n",
      "Epoch 4/10\n",
      "10000/10000 [==============================] - 8s 821us/step - loss: 0.5146 - accuracy: 0.7426\n",
      "Epoch 5/10\n",
      "10000/10000 [==============================] - 10s 994us/step - loss: 0.4998 - accuracy: 0.7529\n",
      "Epoch 6/10\n",
      "10000/10000 [==============================] - 10s 1ms/step - loss: 0.4861 - accuracy: 0.7708\n",
      "Epoch 7/10\n",
      "10000/10000 [==============================] - 11s 1ms/step - loss: 0.4737 - accuracy: 0.7832\n",
      "Epoch 8/10\n",
      "10000/10000 [==============================] - 10s 1ms/step - loss: 0.4688 - accuracy: 0.7832\n",
      "Epoch 9/10\n",
      "10000/10000 [==============================] - 11s 1ms/step - loss: 0.4599 - accuracy: 0.7905\n",
      "Epoch 10/10\n",
      "10000/10000 [==============================] - 9s 905us/step - loss: 0.4538 - accuracy: 0.7933\n",
      "\n",
      "EVALUATION\n",
      "157/157 [==============================] - 0s 743us/step - loss: 0.3988 - accuracy: 0.8328\n",
      "Prediction [[1. 0.]]\n",
      "Prediction [[0. 1.]]\n"
     ]
    }
   ],
   "source": [
    "from tensorflow import keras\n",
    "\n",
    "import pandas as pd\n",
    "import numpy as np\n",
    "\n",
    "training_df = pd.read_csv('./data/train.csv')\n",
    "\n",
    "np.random.shuffle(training_df.values)\n",
    "\n",
    "test_df = pd.read_csv('./data/test.csv')\n",
    "test_x = np.column_stack((test_df.x.values, test_df.y.values))\n",
    "\n",
    "model = keras.Sequential([\n",
    "    keras.layers.Dense(64, input_shape=(2,), activation=\"relu\"),\n",
    "    keras.layers.Dropout(0.2),\n",
    "    keras.layers.Dense(32, activation=\"relu\"),\n",
    "    keras.layers.Dropout(0.2),\n",
    "    keras.layers.Dense(16, activation=\"relu\"),\n",
    "    keras.layers.Dense(2, activation=\"sigmoid\")]) \n",
    "\n",
    "model.compile(optimizer=\"adam\", loss=keras.losses.SparseCategoricalCrossentropy(from_logits=True),\n",
    "             metrics=['accuracy'])\n",
    "\n",
    "x = np.column_stack((training_df.x.values, training_df.y.values))\n",
    "\n",
    "model.fit(x, training_df.color.values, batch_size=2, epochs=10)\n",
    "\n",
    "print(\"\\nEVALUATION\")\n",
    "model.evaluate(test_x, test_df.color.values)\n",
    "\n",
    "print(\"Prediction\", np.round(model.predict(np.array([[4,-4]])))) # red\n",
    "print(\"Prediction\", np.round(model.predict(np.array([[-4,-4]])))) # blue"
   ]
  }
 ],
 "metadata": {
  "kernelspec": {
   "display_name": "Python 3",
   "language": "python",
   "name": "python3"
  },
  "language_info": {
   "codemirror_mode": {
    "name": "ipython",
    "version": 3
   },
   "file_extension": ".py",
   "mimetype": "text/x-python",
   "name": "python",
   "nbconvert_exporter": "python",
   "pygments_lexer": "ipython3",
   "version": "3.8.8"
  }
 },
 "nbformat": 4,
 "nbformat_minor": 5
}
