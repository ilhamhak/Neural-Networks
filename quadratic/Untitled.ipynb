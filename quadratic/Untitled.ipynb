{
 "cells": [
  {
   "cell_type": "code",
   "execution_count": 1,
   "id": "31f466a7",
   "metadata": {},
   "outputs": [],
   "source": [
    "import tensorflow as tf\n",
    "from tensorflow import keras\n",
    "\n",
    "import pandas as pd\n",
    "import numpy as np"
   ]
  },
  {
   "cell_type": "code",
   "execution_count": 2,
   "id": "e7fc8a9e",
   "metadata": {},
   "outputs": [
    {
     "data": {
      "text/html": [
       "<div>\n",
       "<style scoped>\n",
       "    .dataframe tbody tr th:only-of-type {\n",
       "        vertical-align: middle;\n",
       "    }\n",
       "\n",
       "    .dataframe tbody tr th {\n",
       "        vertical-align: top;\n",
       "    }\n",
       "\n",
       "    .dataframe thead th {\n",
       "        text-align: right;\n",
       "    }\n",
       "</style>\n",
       "<table border=\"1\" class=\"dataframe\">\n",
       "  <thead>\n",
       "    <tr style=\"text-align: right;\">\n",
       "      <th></th>\n",
       "      <th>x</th>\n",
       "      <th>y</th>\n",
       "      <th>color</th>\n",
       "    </tr>\n",
       "  </thead>\n",
       "  <tbody>\n",
       "    <tr>\n",
       "      <th>0</th>\n",
       "      <td>4.099913</td>\n",
       "      <td>15.165271</td>\n",
       "      <td>1.0</td>\n",
       "    </tr>\n",
       "    <tr>\n",
       "      <th>1</th>\n",
       "      <td>-1.346732</td>\n",
       "      <td>0.643737</td>\n",
       "      <td>1.0</td>\n",
       "    </tr>\n",
       "    <tr>\n",
       "      <th>2</th>\n",
       "      <td>2.010947</td>\n",
       "      <td>5.282408</td>\n",
       "      <td>0.0</td>\n",
       "    </tr>\n",
       "    <tr>\n",
       "      <th>3</th>\n",
       "      <td>-2.179737</td>\n",
       "      <td>6.341682</td>\n",
       "      <td>0.0</td>\n",
       "    </tr>\n",
       "    <tr>\n",
       "      <th>4</th>\n",
       "      <td>2.514777</td>\n",
       "      <td>7.802022</td>\n",
       "      <td>0.0</td>\n",
       "    </tr>\n",
       "  </tbody>\n",
       "</table>\n",
       "</div>"
      ],
      "text/plain": [
       "          x          y  color\n",
       "0  4.099913  15.165271    1.0\n",
       "1 -1.346732   0.643737    1.0\n",
       "2  2.010947   5.282408    0.0\n",
       "3 -2.179737   6.341682    0.0\n",
       "4  2.514777   7.802022    0.0"
      ]
     },
     "execution_count": 2,
     "metadata": {},
     "output_type": "execute_result"
    }
   ],
   "source": [
    "training_df = pd.read_csv('./data/train.csv')\n",
    "\n",
    "np.random.shuffle(training_df.values)\n",
    "\n",
    "training_df.head()"
   ]
  },
  {
   "cell_type": "code",
   "execution_count": 3,
   "id": "1aa6159d",
   "metadata": {},
   "outputs": [],
   "source": [
    "test_df = pd.read_csv('./data/test.csv')\n",
    "test_x = np.column_stack((test_df.x.values, test_df.y.values))"
   ]
  },
  {
   "cell_type": "code",
   "execution_count": 13,
   "id": "c184d51f",
   "metadata": {},
   "outputs": [
    {
     "name": "stdout",
     "output_type": "stream",
     "text": [
      "Epoch 1/10\n",
      "2000/2000 [==============================] - 2s 859us/step - loss: 0.4823 - accuracy: 0.7722\n",
      "Epoch 2/10\n",
      "2000/2000 [==============================] - 2s 919us/step - loss: 0.2640 - accuracy: 0.88670s - loss: 0.2783 - \n",
      "Epoch 3/10\n",
      "2000/2000 [==============================] - 2s 821us/step - loss: 0.1588 - accuracy: 0.9390\n",
      "Epoch 4/10\n",
      "2000/2000 [==============================] - 2s 820us/step - loss: 0.1035 - accuracy: 0.9603\n",
      "Epoch 5/10\n",
      "2000/2000 [==============================] - 2s 821us/step - loss: 0.0744 - accuracy: 0.9730\n",
      "Epoch 6/10\n",
      "2000/2000 [==============================] - 2s 802us/step - loss: 0.0539 - accuracy: 0.9845\n",
      "Epoch 7/10\n",
      "2000/2000 [==============================] - 2s 833us/step - loss: 0.0582 - accuracy: 0.98100s - loss: 0.062\n",
      "Epoch 8/10\n",
      "2000/2000 [==============================] - 2s 840us/step - loss: 0.0415 - accuracy: 0.9890\n",
      "Epoch 9/10\n",
      "2000/2000 [==============================] - 2s 804us/step - loss: 0.0719 - accuracy: 0.9785\n",
      "Epoch 10/10\n",
      "2000/2000 [==============================] - 2s 825us/step - loss: 0.0339 - accuracy: 0.9875\n",
      "\n",
      "EVALUATION\n",
      "32/32 [==============================] - 0s 709us/step - loss: 0.0079 - accuracy: 1.0000\n"
     ]
    },
    {
     "data": {
      "text/plain": [
       "[0.007937068119645119, 1.0]"
      ]
     },
     "execution_count": 13,
     "metadata": {},
     "output_type": "execute_result"
    }
   ],
   "source": [
    "model = keras.Sequential([\n",
    "    keras.layers.Dense(32, input_shape=(2,), activation=\"relu\"),\n",
    "    keras.layers.Dense(32, activation=\"relu\"),\n",
    "    keras.layers.Dropout(0.2),\n",
    "    keras.layers.Dense(2, activation=\"sigmoid\")])\n",
    "\n",
    "model.compile(optimizer=\"adam\", loss=keras.losses.SparseCategoricalCrossentropy(from_logits=True),\n",
    "             metrics=['accuracy'])\n",
    "\n",
    "x = np.column_stack((training_df.x.values, training_df.y.values))\n",
    "\n",
    "model.fit(x, training_df.color.values, batch_size=2, epochs=10)\n",
    "\n",
    "print(\"\\nEVALUATION\")\n",
    "model.evaluate(test_x, test_df.color.values)"
   ]
  }
 ],
 "metadata": {
  "kernelspec": {
   "display_name": "Python 3",
   "language": "python",
   "name": "python3"
  },
  "language_info": {
   "codemirror_mode": {
    "name": "ipython",
    "version": 3
   },
   "file_extension": ".py",
   "mimetype": "text/x-python",
   "name": "python",
   "nbconvert_exporter": "python",
   "pygments_lexer": "ipython3",
   "version": "3.8.8"
  }
 },
 "nbformat": 4,
 "nbformat_minor": 5
}
